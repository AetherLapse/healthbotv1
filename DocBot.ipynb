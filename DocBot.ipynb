{
  "nbformat": 4,
  "nbformat_minor": 0,
  "metadata": {
    "colab": {
      "provenance": [],
      "collapsed_sections": [
        "pNga7IYo4E1a"
      ]
    },
    "kernelspec": {
      "name": "python3",
      "display_name": "Python 3"
    },
    "language_info": {
      "name": "python"
    }
  },
  "cells": [
    {
      "cell_type": "markdown",
      "source": [
        "# Installing libraries"
      ],
      "metadata": {
        "id": "pNga7IYo4E1a"
      }
    },
    {
      "cell_type": "code",
      "source": [
        "!pip install scispacy"
      ],
      "metadata": {
        "colab": {
          "base_uri": "https://localhost:8080/"
        },
        "id": "Z17mCmbSq30s",
        "outputId": "873a4c53-d982-4255-fdf9-b941b2c826e9"
      },
      "execution_count": null,
      "outputs": [
        {
          "output_type": "stream",
          "name": "stdout",
          "text": [
            "Requirement already satisfied: scispacy in /usr/local/lib/python3.11/dist-packages (0.5.5)\n",
            "Requirement already satisfied: spacy<3.8.0,>=3.7.0 in /usr/local/lib/python3.11/dist-packages (from scispacy) (3.7.5)\n",
            "Requirement already satisfied: scipy in /usr/local/lib/python3.11/dist-packages (from scispacy) (1.13.1)\n",
            "Requirement already satisfied: requests<3.0.0,>=2.0.0 in /usr/local/lib/python3.11/dist-packages (from scispacy) (2.32.3)\n",
            "Requirement already satisfied: conllu in /usr/local/lib/python3.11/dist-packages (from scispacy) (6.0.0)\n",
            "Requirement already satisfied: numpy in /usr/local/lib/python3.11/dist-packages (from scispacy) (1.26.4)\n",
            "Requirement already satisfied: joblib in /usr/local/lib/python3.11/dist-packages (from scispacy) (1.4.2)\n",
            "Requirement already satisfied: scikit-learn>=0.20.3 in /usr/local/lib/python3.11/dist-packages (from scispacy) (1.6.1)\n",
            "Requirement already satisfied: pysbd in /usr/local/lib/python3.11/dist-packages (from scispacy) (0.3.4)\n",
            "Requirement already satisfied: nmslib-metabrainz==2.1.3 in /usr/local/lib/python3.11/dist-packages (from scispacy) (2.1.3)\n",
            "Requirement already satisfied: pybind11>=2.2.3 in /usr/local/lib/python3.11/dist-packages (from nmslib-metabrainz==2.1.3->scispacy) (2.13.6)\n",
            "Requirement already satisfied: psutil in /usr/local/lib/python3.11/dist-packages (from nmslib-metabrainz==2.1.3->scispacy) (5.9.5)\n",
            "Requirement already satisfied: charset-normalizer<4,>=2 in /usr/local/lib/python3.11/dist-packages (from requests<3.0.0,>=2.0.0->scispacy) (3.4.1)\n",
            "Requirement already satisfied: idna<4,>=2.5 in /usr/local/lib/python3.11/dist-packages (from requests<3.0.0,>=2.0.0->scispacy) (3.10)\n",
            "Requirement already satisfied: urllib3<3,>=1.21.1 in /usr/local/lib/python3.11/dist-packages (from requests<3.0.0,>=2.0.0->scispacy) (2.3.0)\n",
            "Requirement already satisfied: certifi>=2017.4.17 in /usr/local/lib/python3.11/dist-packages (from requests<3.0.0,>=2.0.0->scispacy) (2025.1.31)\n",
            "Requirement already satisfied: threadpoolctl>=3.1.0 in /usr/local/lib/python3.11/dist-packages (from scikit-learn>=0.20.3->scispacy) (3.5.0)\n",
            "Requirement already satisfied: spacy-legacy<3.1.0,>=3.0.11 in /usr/local/lib/python3.11/dist-packages (from spacy<3.8.0,>=3.7.0->scispacy) (3.0.12)\n",
            "Requirement already satisfied: spacy-loggers<2.0.0,>=1.0.0 in /usr/local/lib/python3.11/dist-packages (from spacy<3.8.0,>=3.7.0->scispacy) (1.0.5)\n",
            "Requirement already satisfied: murmurhash<1.1.0,>=0.28.0 in /usr/local/lib/python3.11/dist-packages (from spacy<3.8.0,>=3.7.0->scispacy) (1.0.12)\n",
            "Requirement already satisfied: cymem<2.1.0,>=2.0.2 in /usr/local/lib/python3.11/dist-packages (from spacy<3.8.0,>=3.7.0->scispacy) (2.0.11)\n",
            "Requirement already satisfied: preshed<3.1.0,>=3.0.2 in /usr/local/lib/python3.11/dist-packages (from spacy<3.8.0,>=3.7.0->scispacy) (3.0.9)\n",
            "Requirement already satisfied: thinc<8.3.0,>=8.2.2 in /usr/local/lib/python3.11/dist-packages (from spacy<3.8.0,>=3.7.0->scispacy) (8.2.5)\n",
            "Requirement already satisfied: wasabi<1.2.0,>=0.9.1 in /usr/local/lib/python3.11/dist-packages (from spacy<3.8.0,>=3.7.0->scispacy) (1.1.3)\n",
            "Requirement already satisfied: srsly<3.0.0,>=2.4.3 in /usr/local/lib/python3.11/dist-packages (from spacy<3.8.0,>=3.7.0->scispacy) (2.5.1)\n",
            "Requirement already satisfied: catalogue<2.1.0,>=2.0.6 in /usr/local/lib/python3.11/dist-packages (from spacy<3.8.0,>=3.7.0->scispacy) (2.0.10)\n",
            "Requirement already satisfied: weasel<0.5.0,>=0.1.0 in /usr/local/lib/python3.11/dist-packages (from spacy<3.8.0,>=3.7.0->scispacy) (0.4.1)\n",
            "Requirement already satisfied: typer<1.0.0,>=0.3.0 in /usr/local/lib/python3.11/dist-packages (from spacy<3.8.0,>=3.7.0->scispacy) (0.15.1)\n",
            "Requirement already satisfied: tqdm<5.0.0,>=4.38.0 in /usr/local/lib/python3.11/dist-packages (from spacy<3.8.0,>=3.7.0->scispacy) (4.67.1)\n",
            "Requirement already satisfied: pydantic!=1.8,!=1.8.1,<3.0.0,>=1.7.4 in /usr/local/lib/python3.11/dist-packages (from spacy<3.8.0,>=3.7.0->scispacy) (2.10.6)\n",
            "Requirement already satisfied: jinja2 in /usr/local/lib/python3.11/dist-packages (from spacy<3.8.0,>=3.7.0->scispacy) (3.1.5)\n",
            "Requirement already satisfied: setuptools in /usr/local/lib/python3.11/dist-packages (from spacy<3.8.0,>=3.7.0->scispacy) (75.1.0)\n",
            "Requirement already satisfied: packaging>=20.0 in /usr/local/lib/python3.11/dist-packages (from spacy<3.8.0,>=3.7.0->scispacy) (24.2)\n",
            "Requirement already satisfied: langcodes<4.0.0,>=3.2.0 in /usr/local/lib/python3.11/dist-packages (from spacy<3.8.0,>=3.7.0->scispacy) (3.5.0)\n",
            "Requirement already satisfied: language-data>=1.2 in /usr/local/lib/python3.11/dist-packages (from langcodes<4.0.0,>=3.2.0->spacy<3.8.0,>=3.7.0->scispacy) (1.3.0)\n",
            "Requirement already satisfied: annotated-types>=0.6.0 in /usr/local/lib/python3.11/dist-packages (from pydantic!=1.8,!=1.8.1,<3.0.0,>=1.7.4->spacy<3.8.0,>=3.7.0->scispacy) (0.7.0)\n",
            "Requirement already satisfied: pydantic-core==2.27.2 in /usr/local/lib/python3.11/dist-packages (from pydantic!=1.8,!=1.8.1,<3.0.0,>=1.7.4->spacy<3.8.0,>=3.7.0->scispacy) (2.27.2)\n",
            "Requirement already satisfied: typing-extensions>=4.12.2 in /usr/local/lib/python3.11/dist-packages (from pydantic!=1.8,!=1.8.1,<3.0.0,>=1.7.4->spacy<3.8.0,>=3.7.0->scispacy) (4.12.2)\n",
            "Requirement already satisfied: blis<0.8.0,>=0.7.8 in /usr/local/lib/python3.11/dist-packages (from thinc<8.3.0,>=8.2.2->spacy<3.8.0,>=3.7.0->scispacy) (0.7.11)\n",
            "Requirement already satisfied: confection<1.0.0,>=0.0.1 in /usr/local/lib/python3.11/dist-packages (from thinc<8.3.0,>=8.2.2->spacy<3.8.0,>=3.7.0->scispacy) (0.1.5)\n",
            "Requirement already satisfied: click>=8.0.0 in /usr/local/lib/python3.11/dist-packages (from typer<1.0.0,>=0.3.0->spacy<3.8.0,>=3.7.0->scispacy) (8.1.8)\n",
            "Requirement already satisfied: shellingham>=1.3.0 in /usr/local/lib/python3.11/dist-packages (from typer<1.0.0,>=0.3.0->spacy<3.8.0,>=3.7.0->scispacy) (1.5.4)\n",
            "Requirement already satisfied: rich>=10.11.0 in /usr/local/lib/python3.11/dist-packages (from typer<1.0.0,>=0.3.0->spacy<3.8.0,>=3.7.0->scispacy) (13.9.4)\n",
            "Requirement already satisfied: cloudpathlib<1.0.0,>=0.7.0 in /usr/local/lib/python3.11/dist-packages (from weasel<0.5.0,>=0.1.0->spacy<3.8.0,>=3.7.0->scispacy) (0.20.0)\n",
            "Requirement already satisfied: smart-open<8.0.0,>=5.2.1 in /usr/local/lib/python3.11/dist-packages (from weasel<0.5.0,>=0.1.0->spacy<3.8.0,>=3.7.0->scispacy) (7.1.0)\n",
            "Requirement already satisfied: MarkupSafe>=2.0 in /usr/local/lib/python3.11/dist-packages (from jinja2->spacy<3.8.0,>=3.7.0->scispacy) (3.0.2)\n",
            "Requirement already satisfied: marisa-trie>=1.1.0 in /usr/local/lib/python3.11/dist-packages (from language-data>=1.2->langcodes<4.0.0,>=3.2.0->spacy<3.8.0,>=3.7.0->scispacy) (1.2.1)\n",
            "Requirement already satisfied: markdown-it-py>=2.2.0 in /usr/local/lib/python3.11/dist-packages (from rich>=10.11.0->typer<1.0.0,>=0.3.0->spacy<3.8.0,>=3.7.0->scispacy) (3.0.0)\n",
            "Requirement already satisfied: pygments<3.0.0,>=2.13.0 in /usr/local/lib/python3.11/dist-packages (from rich>=10.11.0->typer<1.0.0,>=0.3.0->spacy<3.8.0,>=3.7.0->scispacy) (2.18.0)\n",
            "Requirement already satisfied: wrapt in /usr/local/lib/python3.11/dist-packages (from smart-open<8.0.0,>=5.2.1->weasel<0.5.0,>=0.1.0->spacy<3.8.0,>=3.7.0->scispacy) (1.17.2)\n",
            "Requirement already satisfied: mdurl~=0.1 in /usr/local/lib/python3.11/dist-packages (from markdown-it-py>=2.2.0->rich>=10.11.0->typer<1.0.0,>=0.3.0->spacy<3.8.0,>=3.7.0->scispacy) (0.1.2)\n"
          ]
        }
      ]
    },
    {
      "cell_type": "code",
      "source": [
        "pip install https://s3-us-west-2.amazonaws.com/ai2-s2-scispacy/releases/v0.3.0/en_core_sci_sm-0.3.0.tar.gz\n"
      ],
      "metadata": {
        "colab": {
          "base_uri": "https://localhost:8080/"
        },
        "id": "S6GFoD0qtzcd",
        "outputId": "1607d094-66fe-44fe-bfde-f93f4dd39215"
      },
      "execution_count": null,
      "outputs": [
        {
          "output_type": "stream",
          "name": "stdout",
          "text": [
            "Collecting https://s3-us-west-2.amazonaws.com/ai2-s2-scispacy/releases/v0.3.0/en_core_sci_sm-0.3.0.tar.gz\n",
            "  Using cached https://s3-us-west-2.amazonaws.com/ai2-s2-scispacy/releases/v0.3.0/en_core_sci_sm-0.3.0.tar.gz (33.1 MB)\n",
            "  Preparing metadata (setup.py) ... \u001b[?25l\u001b[?25hdone\n",
            "Requirement already satisfied: spacy>=2.3.1 in /usr/local/lib/python3.11/dist-packages (from en_core_sci_sm==0.3.0) (3.7.5)\n",
            "Requirement already satisfied: spacy-legacy<3.1.0,>=3.0.11 in /usr/local/lib/python3.11/dist-packages (from spacy>=2.3.1->en_core_sci_sm==0.3.0) (3.0.12)\n",
            "Requirement already satisfied: spacy-loggers<2.0.0,>=1.0.0 in /usr/local/lib/python3.11/dist-packages (from spacy>=2.3.1->en_core_sci_sm==0.3.0) (1.0.5)\n",
            "Requirement already satisfied: murmurhash<1.1.0,>=0.28.0 in /usr/local/lib/python3.11/dist-packages (from spacy>=2.3.1->en_core_sci_sm==0.3.0) (1.0.12)\n",
            "Requirement already satisfied: cymem<2.1.0,>=2.0.2 in /usr/local/lib/python3.11/dist-packages (from spacy>=2.3.1->en_core_sci_sm==0.3.0) (2.0.11)\n",
            "Requirement already satisfied: preshed<3.1.0,>=3.0.2 in /usr/local/lib/python3.11/dist-packages (from spacy>=2.3.1->en_core_sci_sm==0.3.0) (3.0.9)\n",
            "Requirement already satisfied: thinc<8.3.0,>=8.2.2 in /usr/local/lib/python3.11/dist-packages (from spacy>=2.3.1->en_core_sci_sm==0.3.0) (8.2.5)\n",
            "Requirement already satisfied: wasabi<1.2.0,>=0.9.1 in /usr/local/lib/python3.11/dist-packages (from spacy>=2.3.1->en_core_sci_sm==0.3.0) (1.1.3)\n",
            "Requirement already satisfied: srsly<3.0.0,>=2.4.3 in /usr/local/lib/python3.11/dist-packages (from spacy>=2.3.1->en_core_sci_sm==0.3.0) (2.5.1)\n",
            "Requirement already satisfied: catalogue<2.1.0,>=2.0.6 in /usr/local/lib/python3.11/dist-packages (from spacy>=2.3.1->en_core_sci_sm==0.3.0) (2.0.10)\n",
            "Requirement already satisfied: weasel<0.5.0,>=0.1.0 in /usr/local/lib/python3.11/dist-packages (from spacy>=2.3.1->en_core_sci_sm==0.3.0) (0.4.1)\n",
            "Requirement already satisfied: typer<1.0.0,>=0.3.0 in /usr/local/lib/python3.11/dist-packages (from spacy>=2.3.1->en_core_sci_sm==0.3.0) (0.15.1)\n",
            "Requirement already satisfied: tqdm<5.0.0,>=4.38.0 in /usr/local/lib/python3.11/dist-packages (from spacy>=2.3.1->en_core_sci_sm==0.3.0) (4.67.1)\n",
            "Requirement already satisfied: requests<3.0.0,>=2.13.0 in /usr/local/lib/python3.11/dist-packages (from spacy>=2.3.1->en_core_sci_sm==0.3.0) (2.32.3)\n",
            "Requirement already satisfied: pydantic!=1.8,!=1.8.1,<3.0.0,>=1.7.4 in /usr/local/lib/python3.11/dist-packages (from spacy>=2.3.1->en_core_sci_sm==0.3.0) (2.10.6)\n",
            "Requirement already satisfied: jinja2 in /usr/local/lib/python3.11/dist-packages (from spacy>=2.3.1->en_core_sci_sm==0.3.0) (3.1.5)\n",
            "Requirement already satisfied: setuptools in /usr/local/lib/python3.11/dist-packages (from spacy>=2.3.1->en_core_sci_sm==0.3.0) (75.1.0)\n",
            "Requirement already satisfied: packaging>=20.0 in /usr/local/lib/python3.11/dist-packages (from spacy>=2.3.1->en_core_sci_sm==0.3.0) (24.2)\n",
            "Requirement already satisfied: langcodes<4.0.0,>=3.2.0 in /usr/local/lib/python3.11/dist-packages (from spacy>=2.3.1->en_core_sci_sm==0.3.0) (3.5.0)\n",
            "Requirement already satisfied: numpy>=1.19.0 in /usr/local/lib/python3.11/dist-packages (from spacy>=2.3.1->en_core_sci_sm==0.3.0) (1.26.4)\n",
            "Requirement already satisfied: language-data>=1.2 in /usr/local/lib/python3.11/dist-packages (from langcodes<4.0.0,>=3.2.0->spacy>=2.3.1->en_core_sci_sm==0.3.0) (1.3.0)\n",
            "Requirement already satisfied: annotated-types>=0.6.0 in /usr/local/lib/python3.11/dist-packages (from pydantic!=1.8,!=1.8.1,<3.0.0,>=1.7.4->spacy>=2.3.1->en_core_sci_sm==0.3.0) (0.7.0)\n",
            "Requirement already satisfied: pydantic-core==2.27.2 in /usr/local/lib/python3.11/dist-packages (from pydantic!=1.8,!=1.8.1,<3.0.0,>=1.7.4->spacy>=2.3.1->en_core_sci_sm==0.3.0) (2.27.2)\n",
            "Requirement already satisfied: typing-extensions>=4.12.2 in /usr/local/lib/python3.11/dist-packages (from pydantic!=1.8,!=1.8.1,<3.0.0,>=1.7.4->spacy>=2.3.1->en_core_sci_sm==0.3.0) (4.12.2)\n",
            "Requirement already satisfied: charset-normalizer<4,>=2 in /usr/local/lib/python3.11/dist-packages (from requests<3.0.0,>=2.13.0->spacy>=2.3.1->en_core_sci_sm==0.3.0) (3.4.1)\n",
            "Requirement already satisfied: idna<4,>=2.5 in /usr/local/lib/python3.11/dist-packages (from requests<3.0.0,>=2.13.0->spacy>=2.3.1->en_core_sci_sm==0.3.0) (3.10)\n",
            "Requirement already satisfied: urllib3<3,>=1.21.1 in /usr/local/lib/python3.11/dist-packages (from requests<3.0.0,>=2.13.0->spacy>=2.3.1->en_core_sci_sm==0.3.0) (2.3.0)\n",
            "Requirement already satisfied: certifi>=2017.4.17 in /usr/local/lib/python3.11/dist-packages (from requests<3.0.0,>=2.13.0->spacy>=2.3.1->en_core_sci_sm==0.3.0) (2025.1.31)\n",
            "Requirement already satisfied: blis<0.8.0,>=0.7.8 in /usr/local/lib/python3.11/dist-packages (from thinc<8.3.0,>=8.2.2->spacy>=2.3.1->en_core_sci_sm==0.3.0) (0.7.11)\n",
            "Requirement already satisfied: confection<1.0.0,>=0.0.1 in /usr/local/lib/python3.11/dist-packages (from thinc<8.3.0,>=8.2.2->spacy>=2.3.1->en_core_sci_sm==0.3.0) (0.1.5)\n",
            "Requirement already satisfied: click>=8.0.0 in /usr/local/lib/python3.11/dist-packages (from typer<1.0.0,>=0.3.0->spacy>=2.3.1->en_core_sci_sm==0.3.0) (8.1.8)\n",
            "Requirement already satisfied: shellingham>=1.3.0 in /usr/local/lib/python3.11/dist-packages (from typer<1.0.0,>=0.3.0->spacy>=2.3.1->en_core_sci_sm==0.3.0) (1.5.4)\n",
            "Requirement already satisfied: rich>=10.11.0 in /usr/local/lib/python3.11/dist-packages (from typer<1.0.0,>=0.3.0->spacy>=2.3.1->en_core_sci_sm==0.3.0) (13.9.4)\n",
            "Requirement already satisfied: cloudpathlib<1.0.0,>=0.7.0 in /usr/local/lib/python3.11/dist-packages (from weasel<0.5.0,>=0.1.0->spacy>=2.3.1->en_core_sci_sm==0.3.0) (0.20.0)\n",
            "Requirement already satisfied: smart-open<8.0.0,>=5.2.1 in /usr/local/lib/python3.11/dist-packages (from weasel<0.5.0,>=0.1.0->spacy>=2.3.1->en_core_sci_sm==0.3.0) (7.1.0)\n",
            "Requirement already satisfied: MarkupSafe>=2.0 in /usr/local/lib/python3.11/dist-packages (from jinja2->spacy>=2.3.1->en_core_sci_sm==0.3.0) (3.0.2)\n",
            "Requirement already satisfied: marisa-trie>=1.1.0 in /usr/local/lib/python3.11/dist-packages (from language-data>=1.2->langcodes<4.0.0,>=3.2.0->spacy>=2.3.1->en_core_sci_sm==0.3.0) (1.2.1)\n",
            "Requirement already satisfied: markdown-it-py>=2.2.0 in /usr/local/lib/python3.11/dist-packages (from rich>=10.11.0->typer<1.0.0,>=0.3.0->spacy>=2.3.1->en_core_sci_sm==0.3.0) (3.0.0)\n",
            "Requirement already satisfied: pygments<3.0.0,>=2.13.0 in /usr/local/lib/python3.11/dist-packages (from rich>=10.11.0->typer<1.0.0,>=0.3.0->spacy>=2.3.1->en_core_sci_sm==0.3.0) (2.18.0)\n",
            "Requirement already satisfied: wrapt in /usr/local/lib/python3.11/dist-packages (from smart-open<8.0.0,>=5.2.1->weasel<0.5.0,>=0.1.0->spacy>=2.3.1->en_core_sci_sm==0.3.0) (1.17.2)\n",
            "Requirement already satisfied: mdurl~=0.1 in /usr/local/lib/python3.11/dist-packages (from markdown-it-py>=2.2.0->rich>=10.11.0->typer<1.0.0,>=0.3.0->spacy>=2.3.1->en_core_sci_sm==0.3.0) (0.1.2)\n"
          ]
        }
      ]
    },
    {
      "cell_type": "code",
      "source": [
        "import spacy\n",
        "spacy.util.get_installed_models()\n"
      ],
      "metadata": {
        "colab": {
          "base_uri": "https://localhost:8080/"
        },
        "id": "ry5iS1sZt3Ub",
        "outputId": "1b9c7bb9-10d5-476a-9dcb-a466c1da52fc"
      },
      "execution_count": null,
      "outputs": [
        {
          "output_type": "execute_result",
          "data": {
            "text/plain": [
              "['en_core_web_sm']"
            ]
          },
          "metadata": {},
          "execution_count": 19
        }
      ]
    },
    {
      "cell_type": "code",
      "source": [
        "!pip install fuzzywuzzy"
      ],
      "metadata": {
        "colab": {
          "base_uri": "https://localhost:8080/"
        },
        "id": "EdNqSnQv2grd",
        "outputId": "7c0f8193-46c7-4ecb-ec1e-bcd98aae2590"
      },
      "execution_count": null,
      "outputs": [
        {
          "output_type": "stream",
          "name": "stdout",
          "text": [
            "Requirement already satisfied: fuzzywuzzy in /usr/local/lib/python3.11/dist-packages (0.18.0)\n"
          ]
        }
      ]
    },
    {
      "cell_type": "markdown",
      "source": [
        "# Chatbot Code"
      ],
      "metadata": {
        "id": "cDrbnxFfyoa5"
      }
    },
    {
      "cell_type": "code",
      "source": [
        "#Importing Libraries\n",
        "\n",
        "import pandas as pd\n",
        "import re\n",
        "import scispacy\n",
        "import spacy\n",
        "import csv\n",
        "from nltk.corpus import wordnet\n",
        "from sklearn.feature_extraction.text import TfidfVectorizer\n",
        "from sklearn.metrics.pairwise import cosine_similarity\n",
        "from fuzzywuzzy import process\n"
      ],
      "metadata": {
        "id": "9H5abJ8x4QKH"
      },
      "execution_count": null,
      "outputs": []
    },
    {
      "cell_type": "code",
      "source": [
        "#Downloading Dataset From kagglehub\n",
        "\n",
        "import kagglehub\n",
        "\n",
        "#Download latest version\n",
        "path = kagglehub.dataset_download(\"niyarrbarman/symptom2disease\")\n",
        "\n",
        "print(\"Path to Dataset files:\", path)\n",
        "\n",
        "disease_data = pd.read_csv(\"/disease_Precautions.csv\", on_bad_lines='skip')"
      ],
      "metadata": {
        "colab": {
          "base_uri": "https://localhost:8080/"
        },
        "id": "AljDGAIOpinv",
        "outputId": "db09a62a-4305-442e-a21c-799fb13f4480"
      },
      "execution_count": null,
      "outputs": [
        {
          "output_type": "stream",
          "name": "stdout",
          "text": [
            "Warning: Looks like you're using an outdated `kagglehub` version (installed: 0.3.6), please consider upgrading to the latest version (0.3.7).\n",
            "Path to Dataset files: /root/.cache/kagglehub/datasets/niyarrbarman/symptom2disease/versions/1\n"
          ]
        }
      ]
    },
    {
      "cell_type": "code",
      "source": [
        "from google.colab import drive\n",
        "drive.mount('/content/drive')"
      ],
      "metadata": {
        "colab": {
          "base_uri": "https://localhost:8080/"
        },
        "id": "cjPbLeb_lPnF",
        "outputId": "d02a88f2-c899-49da-9686-ca791b4007c0"
      },
      "execution_count": null,
      "outputs": [
        {
          "output_type": "stream",
          "name": "stdout",
          "text": [
            "Mounted at /content/drive\n"
          ]
        }
      ]
    },
    {
      "cell_type": "code",
      "source": [
        "def load_spacy_model():\n",
        "    models = [\"en_core_sci_sm\", \"en_core_sci_md\", \"en_core_web_sm\"]\n",
        "    for model in models:\n",
        "        try:\n",
        "            return spacy.load(model)\n",
        "        except OSError:\n",
        "            print(f\"{model} not found. Trying next model...\")\n",
        "            subprocess.run([\"python\", \"-m\", \"spacy\", \"download\", model])\n",
        "    raise OSError(\"No valid spaCy model found. Please install a medical NLP model manually.\")\n",
        "\n",
        "nlp = load_spacy_model()\n"
      ],
      "metadata": {
        "id": "e7KsVBLasz1U"
      },
      "execution_count": null,
      "outputs": []
    },
    {
      "cell_type": "code",
      "source": [
        "# Load datasets\n",
        "dataset_path = \"/root/.cache/kagglehub/datasets/niyarrbarman/symptom2disease/versions/1\"\n",
        "csv_file = dataset_path + \"/Symptom2Disease.csv\"\n",
        "\n",
        "df = pd.read_csv(csv_file)\n",
        "\n",
        "# Preprocessing function\n",
        "def preprocess(text):\n",
        "    text = text.lower().strip()\n",
        "    text = re.sub(r'\\s+', ' ', text)  # Remove extra spaces\n",
        "    text = re.sub(r'[^\\w\\s]', '', text)  # Remove punctuation\n",
        "    return text\n",
        "\n",
        "# Ensure correct column names\n",
        "if 'text' in df.columns:\n",
        "    df['processed_text'] = df['text'].apply(preprocess)\n",
        "else:\n",
        "    raise ValueError(\"Error: Column 'text' not found in dataset.\")\n",
        "\n",
        "# Initialize TF-IDF vectorizer\n",
        "vectorizer = TfidfVectorizer()\n",
        "corpus_vec = vectorizer.fit_transform(df['processed_text'])  # Precompute once\n"
      ],
      "metadata": {
        "id": "vfa3TO3vpG2E"
      },
      "execution_count": null,
      "outputs": []
    },
    {
      "cell_type": "code",
      "source": [
        "# Function to extract synonyms\n",
        "def get_synonyms(word):\n",
        "    synonyms = set()\n",
        "    for syn in wordnet.synsets(word):\n",
        "        for lemma in syn.lemmas():\n",
        "            synonyms.add(lemma.name().lower())\n",
        "    return list(synonyms)\n",
        "\n",
        "# Function to extract named entities\n",
        "def extract_entities(user_input):\n",
        "    doc = nlp(user_input)\n",
        "    entities = {\"symptoms\": [], \"other_info\": []}\n",
        "\n",
        "    symptom_keywords = [\"fever\", \"cough\", \"cold\", \"headache\", \"nausea\", \"pain\", \"rash\", \"fatigue\",\n",
        "                        \"vomiting\", \"chills\", \"sore throat\", \"diarrhea\", \"dizziness\", \"shortness of breath\"]\n",
        "\n",
        "    for ent in doc.ents:\n",
        "        if ent.label_ in [\"SYMPTOM\", \"MEDICAL_CONDITION\"]:\n",
        "            entities[\"symptoms\"].append(ent.text.lower())\n",
        "        else:\n",
        "            entities[\"other_info\"].append(ent.text)\n",
        "\n",
        "    # Use fuzzy matching to detect symptoms\n",
        "    for word in user_input.split():\n",
        "        match, score = process.extractOne(word, symptom_keywords)\n",
        "        if score > 80:  # If similarity is above 80%\n",
        "            entities[\"symptoms\"].append(match)\n",
        "\n",
        "    return entities\n",
        "# Function to calculate similarity\n",
        "def get_similarity(user_input):\n",
        "    processed_input = preprocess(user_input)\n",
        "    user_input_vec = vectorizer.transform([processed_input])\n",
        "    return cosine_similarity(user_input_vec, corpus_vec)[0]\n",
        "\n",
        "# Function to suggest diagnosis\n",
        "def suggest_diagnosis(user_input, threshold=0.2):\n",
        "    similarities = get_similarity(user_input)\n",
        "    sorted_diseases = sorted(zip(df['label'], similarities), key=lambda x: x[1], reverse=True)\n",
        "    unique_diseases = {}\n",
        "\n",
        "    for disease, score in sorted_diseases:\n",
        "        if disease not in unique_diseases and score > threshold:\n",
        "            unique_diseases[disease] = round(score * 100)  # No decimals\n",
        "\n",
        "    return list(unique_diseases.items()) if unique_diseases else \"No specific diagnosis found. Please provide more details.\"\n",
        "\n",
        "# Function to collect symptoms\n",
        "def collect_symptoms():\n",
        "    user_input = input(\"You: \")\n",
        "    greetings = [\"hello\", \"hi\", \"hey\", \"good morning\", \"good evening\"]\n",
        "\n",
        "    if any(greet in user_input.lower() for greet in greetings):\n",
        "        print(\"Bot: Hello! I am DocBot, your virtual health assistant. I can help you identify possible conditions based on your symptoms and provide general precautions. How can I assist you today?\")\n",
        "        return collect_symptoms()\n",
        "\n",
        "    entities = extract_entities(user_input)\n",
        "    return \" \".join(entities[\"symptoms\"])\n",
        "\n",
        "# Function to ask for more details\n",
        "def ask_for_more_info():\n",
        "    additional_info = {}\n",
        "    additional_info['temperature'] = input(\"What is your temperature? (in Celsius): \")\n",
        "    additional_info['appetite'] = input(\"How is your appetite? (good/poor): \")\n",
        "    additional_info['age'] = input(\"What is your age? \")\n",
        "    additional_info['gender'] = input(\"What is your gender? (male/female/other): \")\n",
        "    additional_info['duration'] = input(\"How long have you had these symptoms? (days/weeks): \")\n",
        "    return additional_info\n",
        "\n",
        "# Function to fetch precautions\n",
        "general_advice = (\"Most mild infections, such as viral fevers and colds, improve with rest, hydration and a balanced diet. If symptoms worsen or persist beyond 5 days, consult a doctor.\")\n",
        "\n",
        "def get_precautions(diseases):\n",
        "    precautions = []\n",
        "    disease_data['Condition_normalized'] = disease_data['Condition'].str.lower().str.strip()\n",
        "    general_advice_given = False\n",
        "\n",
        "    for disease in diseases:\n",
        "        disease_info = disease_data[disease_data['Condition_normalized'] == disease.lower().strip()]\n",
        "        if not disease_info.empty:\n",
        "            precautions.append(f\"For {disease}: {disease_info['Precautions'].values[0]}\")\n",
        "        elif not general_advice_given:\n",
        "            precautions.append(f\"General advice: {general_advice}\")\n",
        "            general_advice_given = True  # Ensure it's only shown once\n",
        "\n",
        "    return precautions\n",
        "\n",
        "# Function to detect if user asks for precautions in a greeting\n",
        "def detect_precaution_request(user_input):\n",
        "    precaution_keywords = [\"precaution\", \"safety\", \"prevent\", \"avoid\", \"protection\"]\n",
        "    for word in precaution_keywords:\n",
        "        if word in user_input.lower():\n",
        "            return True\n",
        "    return False\n",
        "\n",
        "# Function to extract disease name from input\n",
        "def extract_disease(user_input):\n",
        "    words = user_input.lower().split()\n",
        "    known_diseases = disease_data['Condition_normalized'].tolist()\n",
        "    for word in words:\n",
        "        if word in known_diseases:\n",
        "            return word\n",
        "    return None\n"
      ],
      "metadata": {
        "id": "Rqqc_Nn2qWA3"
      },
      "execution_count": null,
      "outputs": []
    },
    {
      "cell_type": "code",
      "source": [
        "# Main chatbot loop\n",
        "print(\"\\nHello! I am DocBot, your virtual health assistant. I can provide health precautions or help identify conditions based on your symptoms.\")\n",
        "while True:\n",
        "    print(\"\\nHow can I assist you today?\")\n",
        "    user_input = input().strip().lower()\n",
        "\n",
        "    if detect_precaution_request(user_input):\n",
        "        disease_name = extract_disease(user_input)\n",
        "        if disease_name:\n",
        "            print(\"\\n\" + get_precautions(disease_name))\n",
        "        else:\n",
        "            disease_name = input(\"Enter the name of the disease you want precautions for: \").strip()\n",
        "            print(\"\\n\" + get_precautions(disease_name)[0])\n",
        "\n",
        "    elif \"symptom\" in user_input:\n",
        "        user_symptoms = input(\"Describe your symptoms (e.g., fever, headache, cough): \")\n",
        "        diagnosis_response = suggest_diagnosis(user_symptoms)\n",
        "\n",
        "        if isinstance(diagnosis_response, str):\n",
        "            print(f\"Bot: {diagnosis_response}\")\n",
        "        else:\n",
        "            print(\"Bot: Possible conditions based on your symptoms:\")\n",
        "            for disease, confidence in diagnosis_response:\n",
        "                print(f\"- {disease} ({confidence}% confidence)\")\n",
        "\n",
        "    else:\n",
        "        print(\"Invalid input. You can ask for precautions or symptom diagnosis.\")\n",
        "\n",
        "    exit_input = input(\"Do you need anything else? (yes/no): \").lower()\n",
        "    if exit_input != 'yes':\n",
        "        print(\"Bot: Take care! If symptoms persist, consider visiting a healthcare professional. Goodbye!\")\n",
        "        break\n"
      ],
      "metadata": {
        "id": "jbNBnnW2qYLm"
      },
      "execution_count": null,
      "outputs": []
    },
    {
      "cell_type": "code",
      "source": [
        "!curl ipecho.net/plain"
      ],
      "metadata": {
        "colab": {
          "base_uri": "https://localhost:8080/"
        },
        "id": "GFzYEP_nnuKk",
        "outputId": "f221c63b-1dfa-4fc9-b6dc-7a56ee69be7d"
      },
      "execution_count": null,
      "outputs": [
        {
          "output_type": "stream",
          "name": "stdout",
          "text": [
            "35.185.162.59"
          ]
        }
      ]
    },
    {
      "cell_type": "code",
      "source": [
        "from flask import Flask, request, jsonify, render_template\n",
        "from flask_cors import CORS\n",
        "from pyngrok import ngrok\n",
        "import pandas as pd\n",
        "import re\n",
        "from sklearn.feature_extraction.text import TfidfVectorizer\n",
        "from sklearn.metrics.pairwise import cosine_similarity\n",
        "import kagglehub\n",
        "\n",
        "# Initialize Flask app\n",
        "app = Flask(__name__)\n",
        "CORS(app)\n",
        "\n",
        "# Download dataset from KaggleHub\n",
        "dataset_path = kagglehub.dataset_download(\"niyarrbarman/symptom2disease\")\n",
        "print(\"Dataset downloaded at:\", dataset_path)\n",
        "\n",
        "# Load datasets\n",
        "df = pd.read_csv(f\"{dataset_path}/Symptom2Disease.csv\")\n",
        "disease_data = pd.read_csv(\"/disease_Precautions.csv\")\n",
        "\n",
        "ngrok.set_auth_token(\"\")  # Replace with your actual token\n",
        "\n",
        "# Preprocessing function\n",
        "def preprocess(text):\n",
        "    text = text.lower().strip()\n",
        "    text = re.sub(r'\\s+', ' ', text)  # Remove extra spaces\n",
        "    text = re.sub(r'[^\\w\\s]', '', text)  # Remove punctuation\n",
        "    return text\n",
        "\n",
        "df['processed_text'] = df['text'].apply(preprocess)\n",
        "\n",
        "# Initialize TF-IDF vectorizer\n",
        "vectorizer = TfidfVectorizer()\n",
        "corpus_vec = vectorizer.fit_transform(df['processed_text'])\n",
        "\n",
        "def get_similarity(user_input):\n",
        "    processed_input = preprocess(user_input)\n",
        "    user_input_vec = vectorizer.transform([processed_input])\n",
        "    return cosine_similarity(user_input_vec, corpus_vec)[0]\n",
        "\n",
        "def suggest_diagnosis(user_input, threshold=0.2):\n",
        "    similarities = get_similarity(user_input)\n",
        "    sorted_diseases = sorted(zip(df['label'], similarities), key=lambda x: x[1], reverse=True)\n",
        "    unique_diseases = {disease: round(score * 100) for disease, score in sorted_diseases if score > threshold}\n",
        "    return list(unique_diseases.items()) if unique_diseases else \"No specific diagnosis found. Please provide more details.\"\n",
        "\n",
        "def get_precautions(diseases):\n",
        "    disease_data['Condition_normalized'] = disease_data['Condition'].str.lower().str.strip()\n",
        "    precautions = []\n",
        "    for disease in diseases:\n",
        "        disease_info = disease_data[disease_data['Condition_normalized'] == disease.lower().strip()]\n",
        "        if not disease_info.empty:\n",
        "            precautions.append(f\"For {disease}: {disease_info['Precautions'].values[0]}\")\n",
        "    return precautions if precautions else [\"General advice: Stay hydrated, rest well, and consult a doctor if symptoms persist.\"]\n",
        "\n",
        "@app.route('/')\n",
        "def index():\n",
        "    return render_template('index.html')\n",
        "\n",
        "@app.route('/disease', methods=['POST'])\n",
        "def diagnose():\n",
        "    data = request.json\n",
        "    symptoms = data.get('symptoms', '')\n",
        "    response = suggest_diagnosis(symptoms)\n",
        "    return jsonify(response)\n",
        "\n",
        "@app.route('/precautions', methods=['POST'])\n",
        "def precautions():\n",
        "    data = request.json\n",
        "    disease = data.get('disease', '')\n",
        "    response = get_precautions([disease])\n",
        "    return jsonify(response)\n",
        "\n",
        "# Start ngrok tunnel\n",
        "public_url = ngrok.connect(5000).public_url\n",
        "print(f\" * ngrok tunnel: {public_url}\")\n",
        "\n",
        "if __name__ == '__main__':\n",
        "    app.run(debug=True)\n"
      ],
      "metadata": {
        "colab": {
          "base_uri": "https://localhost:8080/"
        },
        "id": "PlGgjuDWksTP",
        "outputId": "dc044bda-f48d-4366-e255-b6aba8f223ab"
      },
      "execution_count": null,
      "outputs": [
        {
          "metadata": {
            "tags": null
          },
          "name": "stdout",
          "output_type": "stream",
          "text": [
            "Warning: Looks like you're using an outdated `kagglehub` version (installed: 0.3.6), please consider upgrading to the latest version (0.3.7).\n",
            "Dataset downloaded at: /root/.cache/kagglehub/datasets/niyarrbarman/symptom2disease/versions/1\n",
            " * ngrok tunnel: https://fe87-35-185-162-59.ngrok-free.app\n",
            " * Serving Flask app '__main__'\n",
            " * Debug mode: on\n"
          ]
        },
        {
          "metadata": {
            "tags": null
          },
          "name": "stderr",
          "output_type": "stream",
          "text": [
            "INFO:werkzeug:\u001b[31m\u001b[1mWARNING: This is a development server. Do not use it in a production deployment. Use a production WSGI server instead.\u001b[0m\n",
            " * Running on http://127.0.0.1:5000\n",
            "INFO:werkzeug:\u001b[33mPress CTRL+C to quit\u001b[0m\n",
            "INFO:werkzeug: * Restarting with stat\n"
          ]
        }
      ]
    }
  ]
}